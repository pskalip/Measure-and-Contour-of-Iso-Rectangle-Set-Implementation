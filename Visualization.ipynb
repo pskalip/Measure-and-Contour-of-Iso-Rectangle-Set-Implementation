{
 "cells": [
  {
   "cell_type": "code",
   "execution_count": 1,
   "metadata": {},
   "outputs": [],
   "source": [
    "import matplotlib \n",
    "import matplotlib.pyplot as plt "
   ]
  },
  {
   "cell_type": "code",
   "execution_count": 2,
   "metadata": {},
   "outputs": [],
   "source": [
    "file1 = open('mycase18.txt', 'r')\n",
    "file2=open('measure18.txt','r')\n",
    "file3=open('contour18.txt','r')\n",
    "Lines = file1.readlines()\n",
    "measure=file2.readlines()\n",
    "\n"
   ]
  },
  {
   "cell_type": "code",
   "execution_count": 3,
   "metadata": {},
   "outputs": [
    {
     "data": {
      "text/plain": [
       "[[0, 2, 2, 0], [3, 5, 5, 0], [4, 3, 7, 1], [6, 4, 8, 0]]"
      ]
     },
     "execution_count": 3,
     "metadata": {},
     "output_type": "execute_result"
    }
   ],
   "source": [
    "rectangles=[]\n",
    "for i in range(1,len(Lines)):\n",
    "    rectangle=Lines[i].split(\" \")\n",
    "    for j in range(len(rectangle)):\n",
    "        rectangle[j]=int(rectangle[j])\n",
    "    rectangles.append(rectangle)\n",
    "rectangles"
   ]
  },
  {
   "cell_type": "code",
   "execution_count": 4,
   "metadata": {},
   "outputs": [
    {
     "data": {
      "image/png": "[encoded data removed]",
      "text/plain": [
       "<Figure size 432x288 with 1 Axes>"
      ]
     },
     "metadata": {
      "needs_background": "light"
     },
     "output_type": "display_data"
    }
   ],
   "source": [
    "f = plt.figure() \n",
    "axes = f.add_subplot(111) \n",
    "minx=10000\n",
    "maxx=-10000\n",
    "miny=100000\n",
    "maxy=-10000\n",
    "for rectangle in rectangles:\n",
    "    xleft=rectangle[0]\n",
    "    xright=rectangle[2]\n",
    "    ytop=rectangle[1]\n",
    "    ybottom=rectangle[3]\n",
    "    minx=min(minx,xleft)\n",
    "    maxx=max(maxx,xright)\n",
    "    miny=min(miny,ybottom)\n",
    "    maxy=max(maxy,ytop)\n",
    "    rect1 = matplotlib.patches.Rectangle((xleft, ybottom),xright-xleft, ytop-ybottom,fill=False,ec='cyan')\n",
    "    axes.add_patch(rect1)\n",
    "\n",
    "plt.xlim([minx-10, maxx+10]) \n",
    "plt.ylim([miny-10, maxy+10]) \n",
    "plt.title('Measure is '+measure[0])\n",
    "  \n",
    "plt.show()"
   ]
  },
  {
   "cell_type": "code",
   "execution_count": 5,
   "metadata": {},
   "outputs": [
    {
     "data": {
      "image/png": "[encoded data removed]",
      "text/plain": [
       "<Figure size 432x288 with 1 Axes>"
      ]
     },
     "metadata": {
      "needs_background": "light"
     },
     "output_type": "display_data"
    }
   ],
   "source": [
    "Lines=file3.readlines()\n",
    "\n",
    "verticallines=[]\n",
    "horizontallines=[]\n",
    "flag=1\n",
    "for line in Lines:\n",
    "    if flag==1:\n",
    "        if line== 'Vertical lines\\n':\n",
    "            continue\n",
    "        elif line=='Horizontal lines\\n':\n",
    "            flag=0\n",
    "        else:\n",
    "            verticallines.append(line[:-1])\n",
    "    else:\n",
    "        horizontallines.append(line[:-1])\n",
    "\n",
    "vlines=[]\n",
    "hlines=[]\n",
    "        \n",
    "for line in verticallines:\n",
    "    v=line.split(' ')\n",
    "    v[0]=v[0][:-1]\n",
    "    vlines.append(v)\n",
    "    \n",
    "for line in horizontallines:\n",
    "    v=line.split(' ')\n",
    "    v[0]=v[0][:-1]\n",
    "    hlines.append(v)\n",
    "\n",
    "f2 = plt.figure() \n",
    "# axes1 = f2.add_subplot(111)\n",
    "\n",
    "for line in vlines:\n",
    "    l=matplotlib.pyplot.vlines(int(line[0]),int(line[1]),int(line[2]),colors='red') \n",
    "#     axes1.add_patch(l)\n",
    "\n",
    "for line in hlines:\n",
    "    l=matplotlib.pyplot.hlines(int(line[0]),int(line[1]),int(line[2]),colors='red') \n",
    "    \n",
    "plt.xlim([minx-10, maxx+10]) \n",
    "plt.ylim([miny-10, maxy+10]) \n",
    "plt.title('Contour')\n",
    "  \n",
    "plt.show()"
   ]
  },
  {
   "cell_type": "code",
   "execution_count": 6,
   "metadata": {},
   "outputs": [
    {
     "data": {
      "image/png": "[encoded data removed]",
      "text/plain": [
       "<Figure size 432x288 with 1 Axes>"
      ]
     },
     "metadata": {
      "needs_background": "light"
     },
     "output_type": "display_data"
    }
   ],
   "source": [
    "f = plt.figure() \n",
    "axes = f.add_subplot(111) \n",
    "minx=10000\n",
    "maxx=-10000\n",
    "miny=100000\n",
    "maxy=-10000\n",
    "for rectangle in rectangles:\n",
    "    xleft=rectangle[0]\n",
    "    xright=rectangle[2]\n",
    "    ytop=rectangle[1]\n",
    "    ybottom=rectangle[3]\n",
    "    minx=min(minx,xleft)\n",
    "    maxx=max(maxx,xright)\n",
    "    miny=min(miny,ybottom)\n",
    "    maxy=max(maxy,ytop)\n",
    "    rect1 = matplotlib.patches.Rectangle((xleft, ybottom),xright-xleft, ytop-ybottom,fill=False,ec='cyan')\n",
    "    axes.add_patch(rect1)\n",
    "    \n",
    "file3=open('contour18.txt','r')\n",
    "Lines=file3.readlines()\n",
    "\n",
    "verticallines=[]\n",
    "horizontallines=[]\n",
    "flag=1\n",
    "for line in Lines:\n",
    "    if flag==1:\n",
    "        if line== 'Vertical lines\\n':\n",
    "            continue\n",
    "        elif line=='Horizontal lines\\n':\n",
    "            flag=0\n",
    "        else:\n",
    "            verticallines.append(line[:-1])\n",
    "    else:\n",
    "        horizontallines.append(line[:-1])\n",
    "\n",
    "vlines=[]\n",
    "hlines=[]\n",
    "        \n",
    "for line in verticallines:\n",
    "    v=line.split(' ')\n",
    "    v[0]=v[0][:-1]\n",
    "    vlines.append(v)\n",
    "    \n",
    "for line in horizontallines:\n",
    "    v=line.split(' ')\n",
    "    v[0]=v[0][:-1]\n",
    "    hlines.append(v)\n",
    "\n",
    "perimeter=0\n",
    "\n",
    "for line in vlines:\n",
    "    l=matplotlib.pyplot.vlines(int(line[0]),int(line[1]),int(line[2]),colors='black') \n",
    "    perimeter+=(int(line[2])-int(line[1]))\n",
    "\n",
    "\n",
    "for line in hlines:\n",
    "    l=matplotlib.pyplot.hlines(int(line[0]),int(line[1]),int(line[2]),colors='black')\n",
    "    perimeter+=(int(line[2])-int(line[1]))\n",
    "    \n",
    "\n",
    "plt.xlim([minx-10, maxx+10]) \n",
    "plt.ylim([miny-10, maxy+10]) \n",
    "plt.title('Measure is '+measure[0] + 'and contour length is ' +str(perimeter))\n",
    "plt.savefig('plot_case18.pdf',bbox_inches='tight')\n",
    "plt.show()\n"
   ]
  },
  {
   "cell_type": "code",
   "execution_count": null,
   "metadata": {},
   "outputs": [],
   "source": []
  },
  {
   "cell_type": "code",
   "execution_count": null,
   "metadata": {},
   "outputs": [],
   "source": []
  }
 ],
 "metadata": {
  "kernelspec": {
   "display_name": "Python 3",
   "language": "python",
   "name": "python3"
  },
  "language_info": {
   "codemirror_mode": {
    "name": "ipython",
    "version": 3
   },
   "file_extension": ".py",
   "mimetype": "text/x-python",
   "name": "python",
   "nbconvert_exporter": "python",
   "pygments_lexer": "ipython3",
   "version": "3.8.5"
  }
 },
 "nbformat": 4,
 "nbformat_minor": 4
}
